{
 "cells": [
  {
   "cell_type": "markdown",
   "id": "276ecba7",
   "metadata": {},
   "source": [
    "<center>\n",
    "    \n",
    " # **ACIT 4610 Mandatory 2**\n",
    " \n",
    " ## **Multi-Objective VRP: NSGA-II vs SPEA2**\n",
    " \n",
    " ## **Group nr: 4**\n",
    "\n",
    "</center>\n"
   ]
  },
  {
   "cell_type": "markdown",
   "id": "39714211",
   "metadata": {},
   "source": [
    "## **1. Data Ingestion and Setup**\n",
    "\n",
    "- Import libraries and dependencies\n",
    "- Load instance(s)\n",
    "- Build distance matrix and basic helpers\n"
   ]
  },
  {
   "cell_type": "code",
   "execution_count": null,
   "id": "b78948b2",
   "metadata": {},
   "outputs": [],
   "source": [
    "\n",
    "import time, ast, math, random\n",
    "from typing import NamedTuple, List, Tuple, Dict\n",
    "import numpy as np\n",
    "import pandas as pd\n",
    "import vrplib\n"
   ]
  },
  {
   "cell_type": "code",
   "execution_count": null,
   "id": "73dc5192",
   "metadata": {},
   "outputs": [],
   "source": [
    "#Load instance\n",
    "instance_small = vrplib.read_instance(\"A-n32-k5.vrp\")\n",
    "instance_medium = vrplib.read_instance(\"B-n78-k10.vrp\")\n",
    "instance_large = vrplib.read_instance(\"X-n101-k25.vrp\")\n",
    "\n",
    "#get capacity, demands, coordinates and depot\n",
    "def get_instance_details(instance: Dict) -> Tuple[int, List[int], Dict[int, Tuple[float, float]], List[int]]:\n",
    "    capacity = instance[\"capacity\"]            # vehicle capacity Q\n",
    "    demands = instance[\"demand\"]               # list/array of demands\n",
    "    coords = instance[\"node_coord\"]            # dict {id: (x,y)}\n",
    "    depot = instance[\"depot\"]                  # depot node id(s)\n",
    "    return capacity, demands, coords, depot\n",
    "\n",
    "capacity_small, demands_small, coords_small, depot_small = get_instance_details(instance_small)\n",
    "capacity_medium, demands_medium, coords_medium, depot_medium = get_instance_details(instance_medium)    \n",
    "capacity_large, demands_large, coords_large, depot_large = get_instance_details(instance_large)\n",
    "\n",
    "#print(\"Small instance:\") \n",
    "#print(f\"  Capacity: {capacity_small}\")\n",
    "\n",
    "def distance_matrix(coords: List) -> np.ndarray:\n",
    "    n = len(coords)  # includes depot\n",
    "    dist_matrix = np.zeros((n, n))\n",
    "    for i in range(n):\n",
    "        for j in range(i, n):\n",
    "            dist = math.dist(coords[i+1], coords[j+1])  # coords keys start from 1\n",
    "            dist_matrix[i][j] = dist\n",
    "            dist_matrix[j][i] = dist  # symmetry\n",
    "    return dist_matrix\n",
    "\n",
    "\n"
   ]
  },
  {
   "cell_type": "markdown",
   "id": "b9b10ba4",
   "metadata": {},
   "source": [
    "## **2. Chromosome Representation and VRP Instances**\n",
    "\n",
    "- Define instances (small, medium, large)\n",
    "- Individual representation (routes/encoding)\n",
    "- Decoding helpers\n"
   ]
  },
  {
   "cell_type": "markdown",
   "id": "ef4034c8",
   "metadata": {},
   "source": [
    "## **3. Multi-Objective Problem Definition**\n",
    "\n",
    "- Objectives: minimize total distance, improve route balance (e.g., std dev of route loads/lengths)\n",
    "- Constraints: capacity, feasibility handling\n",
    "- Evaluation function\n"
   ]
  },
  {
   "cell_type": "markdown",
   "id": "67145ef3",
   "metadata": {},
   "source": [
    "## **4. Evolutionary Algorithms**\n",
    "\n",
    "### **4.1 NSGA-II Setup**\n",
    "- Initialization, crossover/mutation operators, parameters\n",
    "\n",
    "### **4.2 SPEA2 Setup**\n",
    "- Strength assignment, density estimation, parameters\n"
   ]
  },
  {
   "cell_type": "markdown",
   "id": "0081cd1c",
   "metadata": {},
   "source": [
    "## **5. Experiments and Metrics**\n",
    "\n",
    "- Multiple independent runs (seeds)\n",
    "- Compute Hypervolume (HV), Inverted Generational Distance (IGD), spacing/diversity\n",
    "- Record runtimes\n"
   ]
  },
  {
   "cell_type": "markdown",
   "id": "9b748e59",
   "metadata": {},
   "source": [
    "## **6. Visualization and Discussion**\n",
    "\n",
    "- Plot Pareto fronts\n",
    "- Compare NSGA-II vs SPEA2\n",
    "- Key insights and limitations\n"
   ]
  }
 ],
 "metadata": {
  "kernelspec": {
   "display_name": "Python 3",
   "language": "python",
   "name": "python3"
  },
  "language_info": {
   "codemirror_mode": {
    "name": "ipython",
    "version": 3
   },
   "file_extension": ".py",
   "mimetype": "text/x-python",
   "name": "python",
   "nbconvert_exporter": "python",
   "pygments_lexer": "ipython3",
   "version": "3.13.1"
  }
 },
 "nbformat": 4,
 "nbformat_minor": 5
}
